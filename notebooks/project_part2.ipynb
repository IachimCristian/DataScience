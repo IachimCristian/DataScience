{
 "cells": [
  {
   "cell_type": "markdown",
   "id": "8fc87d2e",
   "metadata": {},
   "source": [
    "Part 2"
   ]
  },
  {
   "cell_type": "code",
   "execution_count": 3,
   "id": "8ab0ef11",
   "metadata": {},
   "outputs": [
    {
     "name": "stdout",
     "output_type": "stream",
     "text": [
      "   vendorid tpep_pickup_datetime tpep_dropoff_datetime  passenger_count  \\\n",
      "0         1  2019-01-01 00:46:40   2019-01-01 00:53:20              1.0   \n",
      "1         1  2019-01-01 00:59:47   2019-01-01 01:18:59              1.0   \n",
      "2         1  2019-01-01 00:21:28   2019-01-01 00:28:37              1.0   \n",
      "3         1  2019-01-01 00:32:01   2019-01-01 00:45:39              1.0   \n",
      "4         1  2019-01-01 00:57:32   2019-01-01 01:09:32              2.0   \n",
      "\n",
      "   trip_distance  ratecodeid store_and_fwd_flag  pulocationid  dolocationid  \\\n",
      "0      -0.441643           1                  N         151.0         239.0   \n",
      "1      -0.082501           1                  N         239.0         246.0   \n",
      "2      -0.506941           1                  N         163.0         229.0   \n",
      "3       0.276640           1                  N         229.0           7.0   \n",
      "4      -0.245747           1                  N         141.0         234.0   \n",
      "\n",
      "   payment_type  ...  pickup_hour  pickup_day  pickup_weekday  pickup_month  \\\n",
      "0             1  ...            0           1               1             1   \n",
      "1             1  ...            0           1               1             1   \n",
      "2             1  ...            0           1               1             1   \n",
      "3             1  ...            0           1               1             1   \n",
      "4             1  ...            0           1               1             1   \n",
      "\n",
      "   trip_duration  speed_mph  is_weekend  is_rush_hour  is_night  high_fare  \n",
      "0       6.666667  -3.974749           0             0         1          0  \n",
      "1      19.200000  -0.257816           0             0         1          1  \n",
      "2       7.150000  -4.254016           0             0         1          0  \n",
      "3      13.633333   1.217482           0             0         1          1  \n",
      "4      12.000000  -1.228731           0             0         1          1  \n",
      "\n",
      "[5 rows x 28 columns]\n"
     ]
    }
   ],
   "source": [
    "import pandas as pd\n",
    "\n",
    "# Load the final processed dataset\n",
    "df = pd.read_csv(\"nyc_taxi_final.csv\")\n",
    "\n",
    "# Check the first few rows\n",
    "print(df.head())"
   ]
  },
  {
   "cell_type": "code",
   "execution_count": null,
   "id": "cb9c4d8c",
   "metadata": {},
   "outputs": [
    {
     "data": {
      "text/plain": [
       "vendorid                   int64\n",
       "tpep_pickup_datetime      object\n",
       "tpep_dropoff_datetime     object\n",
       "passenger_count          float64\n",
       "trip_distance            float64\n",
       "ratecodeid                 int64\n",
       "store_and_fwd_flag        object\n",
       "pulocationid             float64\n",
       "dolocationid             float64\n",
       "payment_type               int64\n",
       "fare_amount              float64\n",
       "extra                    float64\n",
       "mta_tax                  float64\n",
       "tip_amount               float64\n",
       "tolls_amount             float64\n",
       "improvement_surcharge    float64\n",
       "total_amount             float64\n",
       "congestion_surcharge     float64\n",
       "pickup_hour                int64\n",
       "pickup_day                 int64\n",
       "pickup_weekday             int64\n",
       "pickup_month               int64\n",
       "trip_duration            float64\n",
       "speed_mph                float64\n",
       "is_weekend                 int64\n",
       "is_rush_hour               int64\n",
       "is_night                   int64\n",
       "high_fare                  int64\n",
       "dtype: object"
      ]
     },
     "execution_count": 2,
     "metadata": {},
     "output_type": "execute_result"
    },
    {
     "ename": "",
     "evalue": "",
     "output_type": "error",
     "traceback": [
      "\u001b[1;31mnotebook controller is DISPOSED. \n",
      "\u001b[1;31mView Jupyter <a href='command:jupyter.viewOutput'>log</a> for further details."
     ]
    }
   ],
   "source": [
    "df.dtypes"
   ]
  },
  {
   "cell_type": "code",
   "execution_count": null,
   "id": "15df7d24",
   "metadata": {},
   "outputs": [
    {
     "name": "stdout",
     "output_type": "stream",
     "text": [
      "Fast kNN Accuracy: 0.9662676822633297\n"
     ]
    },
    {
     "ename": "",
     "evalue": "",
     "output_type": "error",
     "traceback": [
      "\u001b[1;31mnotebook controller is DISPOSED. \n",
      "\u001b[1;31mView Jupyter <a href='command:jupyter.viewOutput'>log</a> for further details."
     ]
    }
   ],
   "source": [
    "import numpy as np\n",
    "import pandas as pd\n",
    "from sklearn.neighbors import KDTree\n",
    "from sklearn.model_selection import train_test_split\n",
    "from sklearn.metrics import accuracy_score\n",
    "\n",
    "# Efficient kNN class using KDTree\n",
    "class KNNFast:\n",
    "    def __init__(self, k=3):\n",
    "        self.k = k\n",
    "        self.tree = None\n",
    "        self.y_train = None\n",
    "\n",
    "    def fit(self, X_train, y_train):\n",
    "        self.tree = KDTree(X_train)\n",
    "        self.y_train = y_train\n",
    "\n",
    "    def predict(self, X_test):\n",
    "        distances, indices = self.tree.query(X_test, k=self.k)\n",
    "        predictions = []\n",
    "        for i in range(len(X_test)):\n",
    "            k_labels = self.y_train[indices[i]]\n",
    "            most_common = np.bincount(k_labels).argmax()\n",
    "            predictions.append(most_common)\n",
    "        return np.array(predictions)\n",
    "\n",
    "# Feature matrix and target\n",
    "X = df[['trip_distance', 'fare_amount', 'total_amount', 'tolls_amount',\n",
    "        'pickup_hour', 'pickup_day', 'pickup_weekday', 'pickup_month',\n",
    "        'trip_duration', 'speed_mph', 'is_weekend', 'is_rush_hour', 'is_night',\n",
    "        'pulocationid', 'passenger_count', 'payment_type', 'improvement_surcharge',\n",
    "        'tip_amount', 'mta_tax', 'extra']].values\n",
    "y = df['high_fare'].values\n",
    "\n",
    "# Train-test split\n",
    "X_train, X_test, y_train, y_test = train_test_split(X, y, test_size=0.2, random_state=42)\n",
    "\n",
    "# Train and evaluate fast kNN\n",
    "knn_fast = KNNFast(k=3)\n",
    "knn_fast.fit(X_train, y_train)\n",
    "y_pred_knn = knn_fast.predict(X_test)\n",
    "print(\"Fast kNN Accuracy:\", accuracy_score(y_test, y_pred_knn))\n"
   ]
  },
  {
   "cell_type": "code",
   "execution_count": null,
   "id": "468b7b5a",
   "metadata": {},
   "outputs": [
    {
     "name": "stdout",
     "output_type": "stream",
     "text": [
      "Logistic Regression Accuracy: 0.9978237214363439\n",
      "              precision    recall  f1-score   support\n",
      "\n",
      "           0       1.00      1.00      1.00       986\n",
      "           1       1.00      1.00      1.00       852\n",
      "\n",
      "    accuracy                           1.00      1838\n",
      "   macro avg       1.00      1.00      1.00      1838\n",
      "weighted avg       1.00      1.00      1.00      1838\n",
      "\n"
     ]
    },
    {
     "name": "stderr",
     "output_type": "stream",
     "text": [
      "c:\\Users\\crist\\miniconda3\\envs\\tf\\lib\\site-packages\\sklearn\\linear_model\\_logistic.py:465: ConvergenceWarning: lbfgs failed to converge (status=1):\n",
      "STOP: TOTAL NO. of ITERATIONS REACHED LIMIT.\n",
      "\n",
      "Increase the number of iterations (max_iter) or scale the data as shown in:\n",
      "    https://scikit-learn.org/stable/modules/preprocessing.html\n",
      "Please also refer to the documentation for alternative solver options:\n",
      "    https://scikit-learn.org/stable/modules/linear_model.html#logistic-regression\n",
      "  n_iter_i = _check_optimize_result(\n"
     ]
    },
    {
     "ename": "",
     "evalue": "",
     "output_type": "error",
     "traceback": [
      "\u001b[1;31mnotebook controller is DISPOSED. \n",
      "\u001b[1;31mView Jupyter <a href='command:jupyter.viewOutput'>log</a> for further details."
     ]
    }
   ],
   "source": [
    "from sklearn.linear_model import LogisticRegression\n",
    "\n",
    "# Logistic Regression Model\n",
    "lr = LogisticRegression(max_iter=1000)\n",
    "lr.fit(X_train, y_train)\n",
    "y_pred_lr = lr.predict(X_test)\n",
    "\n",
    "# Evaluate performance\n",
    "from sklearn.metrics import classification_report\n",
    "print(\"Logistic Regression Accuracy:\", accuracy_score(y_test, y_pred_lr))\n",
    "print(classification_report(y_test, y_pred_lr))\n"
   ]
  },
  {
   "cell_type": "code",
   "execution_count": null,
   "id": "77168b8a",
   "metadata": {},
   "outputs": [
    {
     "name": "stdout",
     "output_type": "stream",
     "text": [
      "Random Forest Accuracy: 1.0\n",
      "              precision    recall  f1-score   support\n",
      "\n",
      "           0       1.00      1.00      1.00       986\n",
      "           1       1.00      1.00      1.00       852\n",
      "\n",
      "    accuracy                           1.00      1838\n",
      "   macro avg       1.00      1.00      1.00      1838\n",
      "weighted avg       1.00      1.00      1.00      1838\n",
      "\n"
     ]
    },
    {
     "ename": "",
     "evalue": "",
     "output_type": "error",
     "traceback": [
      "\u001b[1;31mnotebook controller is DISPOSED. \n",
      "\u001b[1;31mView Jupyter <a href='command:jupyter.viewOutput'>log</a> for further details."
     ]
    }
   ],
   "source": [
    "from sklearn.ensemble import RandomForestClassifier\n",
    "\n",
    "rf = RandomForestClassifier(n_estimators=100, max_depth=10, min_samples_split=5, min_samples_leaf=4, random_state=42)\n",
    "rf.fit(X_train, y_train)\n",
    "\n",
    "y_pred_rf = rf.predict(X_test)\n",
    "\n",
    "# Evaluate performance\n",
    "print(\"Random Forest Accuracy:\", accuracy_score(y_test, y_pred_rf))\n",
    "print(classification_report(y_test, y_pred_rf))"
   ]
  },
  {
   "cell_type": "code",
   "execution_count": null,
   "id": "d372c74e",
   "metadata": {},
   "outputs": [
    {
     "name": "stdout",
     "output_type": "stream",
     "text": [
      "Gradient Boosting Accuracy: 1.0\n",
      "              precision    recall  f1-score   support\n",
      "\n",
      "           0       1.00      1.00      1.00       986\n",
      "           1       1.00      1.00      1.00       852\n",
      "\n",
      "    accuracy                           1.00      1838\n",
      "   macro avg       1.00      1.00      1.00      1838\n",
      "weighted avg       1.00      1.00      1.00      1838\n",
      "\n"
     ]
    },
    {
     "ename": "",
     "evalue": "",
     "output_type": "error",
     "traceback": [
      "\u001b[1;31mnotebook controller is DISPOSED. \n",
      "\u001b[1;31mView Jupyter <a href='command:jupyter.viewOutput'>log</a> for further details."
     ]
    }
   ],
   "source": [
    "from sklearn.ensemble import GradientBoostingClassifier\n",
    "\n",
    "# Gradient Boosting Model\n",
    "gb = GradientBoostingClassifier(n_estimators=100, learning_rate=0.1, max_depth=3, random_state=42)\n",
    "gb.fit(X_train, y_train)\n",
    "y_pred_gb = gb.predict(X_test)\n",
    "\n",
    "# Evaluate performance\n",
    "print(\"Gradient Boosting Accuracy:\", accuracy_score(y_test, y_pred_gb))\n",
    "print(classification_report(y_test, y_pred_gb))"
   ]
  },
  {
   "cell_type": "code",
   "execution_count": null,
   "id": "fdbe0724",
   "metadata": {},
   "outputs": [
    {
     "name": "stdout",
     "output_type": "stream",
     "text": [
      "Epoch 1/20\n",
      "230/230 [==============================] - 2s 5ms/step - loss: 0.4857 - accuracy: 0.8143\n",
      "Epoch 2/20\n",
      "230/230 [==============================] - 1s 4ms/step - loss: 0.3057 - accuracy: 0.8780\n",
      "Epoch 3/20\n",
      "230/230 [==============================] - 1s 4ms/step - loss: 0.1165 - accuracy: 0.9592\n",
      "Epoch 4/20\n",
      "230/230 [==============================] - 1s 4ms/step - loss: 0.0945 - accuracy: 0.9653\n",
      "Epoch 5/20\n",
      "230/230 [==============================] - 1s 4ms/step - loss: 0.1233 - accuracy: 0.9737\n",
      "Epoch 6/20\n",
      "230/230 [==============================] - 1s 3ms/step - loss: 0.0639 - accuracy: 0.9759\n",
      "Epoch 7/20\n",
      "230/230 [==============================] - 1s 3ms/step - loss: 0.0650 - accuracy: 0.9742\n",
      "Epoch 8/20\n",
      "230/230 [==============================] - 1s 3ms/step - loss: 0.0511 - accuracy: 0.9784\n",
      "Epoch 9/20\n",
      "230/230 [==============================] - 1s 4ms/step - loss: 0.0534 - accuracy: 0.9771\n",
      "Epoch 10/20\n",
      "230/230 [==============================] - 1s 3ms/step - loss: 0.0482 - accuracy: 0.9785\n",
      "Epoch 11/20\n",
      "230/230 [==============================] - 1s 3ms/step - loss: 0.2418 - accuracy: 0.9771\n",
      "Epoch 12/20\n",
      "230/230 [==============================] - 1s 4ms/step - loss: 0.0612 - accuracy: 0.9818\n",
      "Epoch 13/20\n",
      "230/230 [==============================] - 1s 4ms/step - loss: 0.0526 - accuracy: 0.9756\n",
      "Epoch 14/20\n",
      "230/230 [==============================] - 1s 4ms/step - loss: 0.0444 - accuracy: 0.9814\n",
      "Epoch 15/20\n",
      "230/230 [==============================] - 1s 3ms/step - loss: 0.0461 - accuracy: 0.9786\n",
      "Epoch 16/20\n",
      "230/230 [==============================] - 1s 3ms/step - loss: 0.0526 - accuracy: 0.9765\n",
      "Epoch 17/20\n",
      "230/230 [==============================] - 1s 4ms/step - loss: 0.0413 - accuracy: 0.9825\n",
      "Epoch 18/20\n",
      "230/230 [==============================] - 1s 3ms/step - loss: 0.0324 - accuracy: 0.9854\n",
      "Epoch 19/20\n",
      "230/230 [==============================] - 1s 4ms/step - loss: 0.0441 - accuracy: 0.9827\n",
      "Epoch 20/20\n",
      "230/230 [==============================] - 1s 3ms/step - loss: 0.0366 - accuracy: 0.9853\n",
      "58/58 [==============================] - 0s 2ms/step - loss: 0.0305 - accuracy: 0.9880\n",
      "Deep Learning Model Accuracy: 0.9880304932594299\n"
     ]
    },
    {
     "ename": "",
     "evalue": "",
     "output_type": "error",
     "traceback": [
      "\u001b[1;31mnotebook controller is DISPOSED. \n",
      "\u001b[1;31mView Jupyter <a href='command:jupyter.viewOutput'>log</a> for further details."
     ]
    }
   ],
   "source": [
    "import tensorflow as tf\n",
    "from tensorflow.keras import layers, models\n",
    "\n",
    "# Deep Neural Network model with 10 layers\n",
    "model = models.Sequential([\n",
    "    layers.Dense(128, activation='relu', input_shape=(X_train.shape[1],)),  # Layer 1\n",
    "    layers.Dense(128, activation='relu'),  # Layer 2\n",
    "    layers.Dense(64, activation='relu'),   # Layer 3\n",
    "    layers.Dense(64, activation='relu'),   # Layer 4\n",
    "    layers.Dense(32, activation='relu'),   # Layer 5\n",
    "    layers.Dense(32, activation='relu'),   # Layer 6\n",
    "    layers.Dense(16, activation='relu'),   # Layer 7\n",
    "    layers.Dense(16, activation='relu'),   # Layer 8\n",
    "    layers.Dense(8, activation='relu'),    # Layer 9\n",
    "    layers.Dense(1, activation='sigmoid')  # Layer 10 (Output)\n",
    "])\n",
    "\n",
    "# Compile the model\n",
    "model.compile(optimizer='adam', loss='binary_crossentropy', metrics=['accuracy'])\n",
    "\n",
    "# Train the model\n",
    "model.fit(X_train, y_train, epochs=20, batch_size=32)\n",
    "\n",
    "# Evaluate the model\n",
    "test_loss, test_acc = model.evaluate(X_test, y_test)\n",
    "print(f\"Deep Learning Model Accuracy: {test_acc}\")\n"
   ]
  },
  {
   "cell_type": "code",
   "execution_count": null,
   "id": "b455e989",
   "metadata": {},
   "outputs": [
    {
     "ename": "NameError",
     "evalue": "name 'X' is not defined",
     "output_type": "error",
     "traceback": [
      "\u001b[1;31m---------------------------------------------------------------------------\u001b[0m",
      "\u001b[1;31mNameError\u001b[0m                                 Traceback (most recent call last)",
      "Cell \u001b[1;32mIn[1], line 7\u001b[0m\n\u001b[0;32m      5\u001b[0m \u001b[38;5;66;03m# K-Means Clustering with 2 clusters\u001b[39;00m\n\u001b[0;32m      6\u001b[0m kmeans \u001b[38;5;241m=\u001b[39m KMeans(n_clusters\u001b[38;5;241m=\u001b[39m\u001b[38;5;241m2\u001b[39m, random_state\u001b[38;5;241m=\u001b[39m\u001b[38;5;241m42\u001b[39m, n_init\u001b[38;5;241m=\u001b[39m\u001b[38;5;241m10\u001b[39m)\n\u001b[1;32m----> 7\u001b[0m kmeans\u001b[38;5;241m.\u001b[39mfit(\u001b[43mX\u001b[49m)\n\u001b[0;32m      9\u001b[0m \u001b[38;5;66;03m# Cluster assignments\u001b[39;00m\n\u001b[0;32m     10\u001b[0m labels \u001b[38;5;241m=\u001b[39m kmeans\u001b[38;5;241m.\u001b[39mlabels_\n",
      "\u001b[1;31mNameError\u001b[0m: name 'X' is not defined"
     ]
    },
    {
     "ename": "",
     "evalue": "",
     "output_type": "error",
     "traceback": [
      "\u001b[1;31mnotebook controller is DISPOSED. \n",
      "\u001b[1;31mView Jupyter <a href='command:jupyter.viewOutput'>log</a> for further details."
     ]
    }
   ],
   "source": [
    "from sklearn.cluster import KMeans\n",
    "from sklearn.metrics import silhouette_score, adjusted_rand_score\n",
    "import matplotlib.pyplot as plt\n",
    "\n",
    "# K-Means Clustering with 2 clusters\n",
    "kmeans = KMeans(n_clusters=2, random_state=42, n_init=10)\n",
    "kmeans.fit(X)\n",
    "\n",
    "# Cluster assignments\n",
    "labels = kmeans.labels_\n",
    "\n",
    "# Compute Silhouette Score\n",
    "silhouette = silhouette_score(X, labels)\n",
    "print(f\"Silhouette Score: {silhouette}\")\n",
    "\n",
    "# Plot the results\n",
    "plt.scatter(X[:, 0], X[:, 1], c=kmeans.labels_, cmap='viridis')\n",
    "plt.title(\"K-Means Clustering\")\n",
    "plt.show()"
   ]
  },
  {
   "cell_type": "code",
   "execution_count": null,
   "id": "ca055f42",
   "metadata": {},
   "outputs": [
    {
     "ename": "NameError",
     "evalue": "name 'X' is not defined",
     "output_type": "error",
     "traceback": [
      "\u001b[1;31m---------------------------------------------------------------------------\u001b[0m",
      "\u001b[1;31mNameError\u001b[0m                                 Traceback (most recent call last)",
      "Cell \u001b[1;32mIn[2], line 8\u001b[0m\n\u001b[0;32m      6\u001b[0m \u001b[38;5;66;03m# DBSCAN clustering\u001b[39;00m\n\u001b[0;32m      7\u001b[0m dbscan \u001b[38;5;241m=\u001b[39m DBSCAN(eps\u001b[38;5;241m=\u001b[39m\u001b[38;5;241m0.5\u001b[39m, min_samples\u001b[38;5;241m=\u001b[39m\u001b[38;5;241m5\u001b[39m)\n\u001b[1;32m----> 8\u001b[0m dbscan_labels \u001b[38;5;241m=\u001b[39m dbscan\u001b[38;5;241m.\u001b[39mfit_predict(\u001b[43mX\u001b[49m)\n\u001b[0;32m     10\u001b[0m \u001b[38;5;66;03m# Count number of clusters (excluding noise points labeled as -1)\u001b[39;00m\n\u001b[0;32m     11\u001b[0m num_clusters \u001b[38;5;241m=\u001b[39m \u001b[38;5;28mlen\u001b[39m(\u001b[38;5;28mset\u001b[39m(dbscan_labels)) \u001b[38;5;241m-\u001b[39m (\u001b[38;5;241m1\u001b[39m \u001b[38;5;28;01mif\u001b[39;00m \u001b[38;5;241m-\u001b[39m\u001b[38;5;241m1\u001b[39m \u001b[38;5;129;01min\u001b[39;00m dbscan_labels \u001b[38;5;28;01melse\u001b[39;00m \u001b[38;5;241m0\u001b[39m)\n",
      "\u001b[1;31mNameError\u001b[0m: name 'X' is not defined"
     ]
    },
    {
     "ename": "",
     "evalue": "",
     "output_type": "error",
     "traceback": [
      "\u001b[1;31mnotebook controller is DISPOSED. \n",
      "\u001b[1;31mView Jupyter <a href='command:jupyter.viewOutput'>log</a> for further details."
     ]
    }
   ],
   "source": [
    "from sklearn.cluster import DBSCAN\n",
    "from sklearn.metrics import silhouette_score, adjusted_rand_score\n",
    "import numpy as np\n",
    "import matplotlib.pyplot as plt\n",
    "\n",
    "# DBSCAN clustering\n",
    "dbscan = DBSCAN(eps=0.5, min_samples=5)\n",
    "dbscan_labels = dbscan.fit_predict(X)\n",
    "\n",
    "# Count number of clusters (excluding noise points labeled as -1)\n",
    "num_clusters = len(set(dbscan_labels)) - (1 if -1 in dbscan_labels else 0)\n",
    "num_noise_points = np.sum(dbscan_labels == -1)\n",
    "\n",
    "print(f\"Number of clusters found by DBSCAN: {num_clusters}\")\n",
    "print(f\"Number of noise points: {num_noise_points}\")\n",
    "\n",
    "# Compute Silhouette Score (only if there are more than 1 clusters)\n",
    "if num_clusters > 1:\n",
    "    silhouette = silhouette_score(X, dbscan_labels)\n",
    "    print(f\"Silhouette Score: {silhouette}\")\n",
    "else:\n",
    "    silhouette = None\n",
    "    print(\"Silhouette Score not applicable (only one cluster found).\")\n",
    "\n",
    "# Plot the results\n",
    "plt.scatter(X[:, 0], X[:, 1], c=dbscan_labels, cmap='viridis')\n",
    "plt.title(\"DBSCAN Clustering\")\n",
    "plt.show()\n"
   ]
  },
  {
   "cell_type": "code",
   "execution_count": null,
   "id": "8310207b",
   "metadata": {},
   "outputs": [
    {
     "name": "stdout",
     "output_type": "stream",
     "text": [
      "                 Model  Accuracy\n",
      "0                  kNN  0.966268\n",
      "1  Logistic Regression  0.997824\n",
      "2        Random Forest  1.000000\n",
      "3    Gradient Boosting  1.000000\n",
      "4        Deep Learning  0.988030\n",
      "5              K-Means       NaN\n",
      "6               DBSCAN       NaN\n"
     ]
    },
    {
     "ename": "",
     "evalue": "",
     "output_type": "error",
     "traceback": [
      "\u001b[1;31mnotebook controller is DISPOSED. \n",
      "\u001b[1;31mView Jupyter <a href='command:jupyter.viewOutput'>log</a> for further details."
     ]
    }
   ],
   "source": [
    "# Comparison table\n",
    "models = ['kNN', 'Logistic Regression', 'Random Forest', 'Gradient Boosting', 'Deep Learning', 'K-Means', 'DBSCAN']\n",
    "accuracies = [\n",
    "    accuracy_score(y_test, y_pred_knn),  # kNN\n",
    "    accuracy_score(y_test, y_pred_lr),   # Logistic Regression\n",
    "    accuracy_score(y_test, y_pred_rf),   # Random Forest\n",
    "    accuracy_score(y_test, y_pred_gb),   # Gradient Boosting\n",
    "    test_acc,                            # Deep Learning\n",
    "    np.nan,                              # K-Means does not have accuracy\n",
    "    np.nan                               # DBSCAN does not have accuracy\n",
    "]\n",
    "\n",
    "model_comparison = pd.DataFrame({\n",
    "    'Model': models,\n",
    "    'Accuracy': accuracies\n",
    "})\n",
    "\n",
    "print(model_comparison)"
   ]
  }
 ],
 "metadata": {
  "kernelspec": {
   "display_name": "tf",
   "language": "python",
   "name": "python3"
  },
  "language_info": {
   "codemirror_mode": {
    "name": "ipython",
    "version": 3
   },
   "file_extension": ".py",
   "mimetype": "text/x-python",
   "name": "python",
   "nbconvert_exporter": "python",
   "pygments_lexer": "ipython3",
   "version": "3.9.21"
  }
 },
 "nbformat": 4,
 "nbformat_minor": 5
}
